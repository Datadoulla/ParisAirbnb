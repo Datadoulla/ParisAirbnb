{
 "cells": [
  {
   "cell_type": "code",
   "execution_count": 1,
   "metadata": {},
   "outputs": [],
   "source": [
    "import pickle"
   ]
  },
  {
   "cell_type": "code",
   "execution_count": 10,
   "metadata": {},
   "outputs": [],
   "source": [
    "model_pkl = 'models/model_simple_2023.pkl'\n",
    "dt_file = 'insert dataset file path here'\n",
    "\n",
    "# Load the model from the pickle file\n",
    "with open(model_pkl, 'rb') as file:\n",
    "    loaded_model = pickle.load(file)"
   ]
  },
  {
   "cell_type": "code",
   "execution_count": 11,
   "metadata": {},
   "outputs": [],
   "source": [
    "exog_list = loaded_model.model.exog_names"
   ]
  },
  {
   "cell_type": "code",
   "execution_count": 12,
   "metadata": {},
   "outputs": [
    {
     "data": {
      "text/plain": [
       "['const',\n",
       " 'accommodates',\n",
       " 'bathrooms',\n",
       " 'bedrooms',\n",
       " 'accommodates_squared',\n",
       " 'bedrooms_squared',\n",
       " 'bathrooms_squared',\n",
       " 'neighbourhood_cleansed_Batignolles-Monceau',\n",
       " 'neighbourhood_cleansed_Buttes-Chaumont',\n",
       " 'neighbourhood_cleansed_Buttes-Montmartre',\n",
       " 'neighbourhood_cleansed_Entrepôt',\n",
       " 'neighbourhood_cleansed_Gobelins',\n",
       " 'neighbourhood_cleansed_Ménilmontant',\n",
       " 'neighbourhood_cleansed_Observatoire',\n",
       " 'neighbourhood_cleansed_Opéra',\n",
       " 'neighbourhood_cleansed_Panthéon',\n",
       " 'neighbourhood_cleansed_Passy',\n",
       " 'neighbourhood_cleansed_Popincourt',\n",
       " 'neighbourhood_cleansed_Reuilly',\n",
       " 'neighbourhood_cleansed_Vaugirard',\n",
       " 'property_type_Entire rental unit',\n",
       " 'property_type_Private room in hostel',\n",
       " 'property_type_Private room in rental unit',\n",
       " 'property_type_Room in boutique hotel',\n",
       " 'property_type_Room in hotel',\n",
       " 'room_type_Entire home/apt']"
      ]
     },
     "execution_count": 12,
     "metadata": {},
     "output_type": "execute_result"
    }
   ],
   "source": [
    "exog_list"
   ]
  },
  {
   "cell_type": "code",
   "execution_count": null,
   "metadata": {},
   "outputs": [],
   "source": [
    "len(exo)"
   ]
  }
 ],
 "metadata": {
  "kernelspec": {
   "display_name": "Python 3",
   "language": "python",
   "name": "python3"
  },
  "language_info": {
   "codemirror_mode": {
    "name": "ipython",
    "version": 3
   },
   "file_extension": ".py",
   "mimetype": "text/x-python",
   "name": "python",
   "nbconvert_exporter": "python",
   "pygments_lexer": "ipython3",
   "version": "3.10.13"
  }
 },
 "nbformat": 4,
 "nbformat_minor": 2
}
